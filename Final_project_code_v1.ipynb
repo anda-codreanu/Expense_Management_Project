{
 "cells": [
  {
   "cell_type": "markdown",
   "id": "3f3e5431-d550-43b8-94cd-25f2d5e7e6ef",
   "metadata": {},
   "source": [
    "                                                                Project Code\n",
    "Code Summary: This code is used to help students record their monthly income and expenses. For clarity, the code has been divided in multiple notbook cells, each representing an important section for the final result. The first section represents the definition of the first class, namely the income class, which contains all the income elements as attributes. The second section includes the definition of the second class, which will help handle the expenses. The third class is the biggest, and it contains methods that perform the actions described in the project's presentation. This class includes important elements such as a bubble sort algorithm, a linear search, methods for creating visualisations, and an option to export the data to excel, so the student can analyse it further, if they wish. The last section is the main function - which calls the methods and allows for an interactive way of recording data from the student's side, so there is no need for them to write code. The errors are handled in this part using try and except blocks, while the class definitions validate the input and raise exceptions when something is wrong: for example, the student enters a negative value for SU. This error handling part ensures the code doesn't crash and can continue in case an error pops up. \n",
    "\n",
    "To make this code easier to understand, each section will have a markdown explaining its functionality in more detail. I thought this would be easier than writing long comments accross the code. Of course, all this information is available in the project report, but was included here to accompany the code. Comments will only be included where I thought some methods need a few extra words \n"
   ]
  },
  {
   "cell_type": "code",
   "execution_count": 7,
   "id": "fb5ab33f-aec6-491d-bf28-8bf308bfe4f6",
   "metadata": {},
   "outputs": [],
   "source": [
    "#As stated in the report, the code will make use of two external libraries: myplotlib for creating visualisations and pandas for data management. \n",
    "#The code will not run if the two are not installed, so one can use pip install pandas and pip install matplotlib to check if the requirement is satisfied\n",
    "#If the code is run on Jupyter - there should be no need to install these, but if the code is run in fx. Visual Studio Code, please make sure to have them installed\n",
    "\n",
    "import pandas as pd\n",
    "import matplotlib.pyplot as plt"
   ]
  },
  {
   "cell_type": "markdown",
   "id": "06a203b1-109d-4576-86d0-acc331203e99",
   "metadata": {},
   "source": [
    "This is the first class of the program, the income. First, a class constant is defined for warning the student in case their minimum wage is below what is recommended in denmark. \n",
    "\n",
    "An instance of this class would represent the detailed income information for a specific month, as the class attributes are the income components.Given that the student may accidentally type in wrong inputs, the classes ensure that these inputs are validatedr, and an exception is risen if something is wrong - which will be handled in the main() function.This class has a constructor and two methods: one for determining the spendable income, and one to help print clas objects further. "
   ]
  },
  {
   "cell_type": "code",
   "execution_count": null,
   "id": "fd2f2f38-bc3b-4a75-a3ae-fce09177265b",
   "metadata": {},
   "outputs": [],
   "source": []
  },
  {
   "cell_type": "code",
   "execution_count": 8,
   "id": "409d16bc-d9b8-4cf2-b311-20cda50ccd95",
   "metadata": {},
   "outputs": [],
   "source": [
    "class Income:\n",
    "    MIN_HOURLY_WAGE = 120 \n",
    "\n",
    "    def __init__(self,current_month, su_amount, hours_worked, hourly_wage, other_income, tax_paid ):\n",
    "        self.current_month= current_month\n",
    "\n",
    "        for value in [ su_amount,hours_worked, hourly_wage,other_income, tax_paid]:\n",
    "            if not isinstance(value,(int, float)):\n",
    "                raise ValueError('You introduced an invalid value for: {} All inputs need to be numbers'.format(name))\n",
    "        if su_amount<0:\n",
    "            raise ValueError('The SU amount cannot be negative, but can be 0 you do not get SU')\n",
    "        self.su_amount=su_amount\n",
    "        if hours_worked<0:\n",
    "            raise ValueError(\"The number of hours worked must be non-negative, but can be 0\")\n",
    "        self.hours_worked=hours_worked\n",
    "        if hourly_wage<Income.MIN_HOURLY_WAGE:\n",
    "            print(\"Warning: Your hourly wage seems lower than recommended. You could consider discussing this with a union :) \")\n",
    "        if hourly_wage<0:\n",
    "            raise ValueError('The hourly wage should be non-negative')\n",
    "        self.hourly_wage = hourly_wage\n",
    "        if other_income<0:\n",
    "            raise ValueError(\"The income from other sources cannot be negative\")\n",
    "        self.other_income = other_income\n",
    "        if tax_paid<0:\n",
    "            raise ValueError(\"The amount of tax paid cannot be negative\")\n",
    "        self.tax_paid = tax_paid\n",
    "\n",
    "    def spendable_income_calculation(self):\n",
    "        monthly_income =self.su_amount + (self.hours_worked*self.hourly_wage)+self.other_income\n",
    "        spendable_income = monthly_income- self.tax_paid\n",
    "        #print(monthly_income,spendable_income)\n",
    "        return monthly_income, spendable_income\n",
    "    \n",
    "    def __str__(self):\n",
    "        monthly_income, spendable_income = self.spendable_income_calculation()\n",
    "        return \"For the month of: {}, the Monthly income has a value of : {} DKK, while the Spendable income has a value of: {} DKK\".format(self.current_month, monthly_income, spendable_income)"
   ]
  },
  {
   "cell_type": "markdown",
   "id": "1d1848ba-cf8f-4983-84bf-620386f2e83b",
   "metadata": {},
   "source": [
    "This is the expense class, and an object of this class is simply an individual monthly expense, like the rent for January. Here I have thought of potential errors the student could make - and what we need to be careful is that the description and categories are strings (which it should be clear in general, but I still included them for safety), and that the amount has to be a non-negative number."
   ]
  },
  {
   "cell_type": "code",
   "execution_count": 9,
   "id": "1d8da4e6-8631-4c2a-8103-e685677bf5b8",
   "metadata": {},
   "outputs": [],
   "source": [
    "class Expense:\n",
    "    def __init__(self, current_month, description, amount, category):\n",
    "        if not isinstance(current_month,str) or not current_month.strip():\n",
    "            raise ValueError('The name of the month has to be a string')\n",
    "        if not all(isinstance(n,str) and n.strip() for n in[description,category]):\n",
    "            raise ValueError('Description and category shall be non-empty strings')\n",
    "        if not isinstance(amount,(int,float)) or amount <0:\n",
    "            raise ValueError('The expense amount has to be a non-negative number' )\n",
    "     \n",
    "        self.current_month=current_month\n",
    "        self.description=description\n",
    "        self.amount=amount\n",
    "        self.category=category\n",
    "\n",
    "    def __str__(self):\n",
    "        return \"In the month of {}, the specific expense is {}, amounting {} DKK, and belonging to the category {}\".format(self.current_month, self.description, self.amount, self.category)"
   ]
  },
  {
   "cell_type": "markdown",
   "id": "ad112d52-98cf-4c09-a79e-2ea058838d97",
   "metadata": {},
   "source": [
    "The third class is the most complex of the three, because it contains more methods which help manage the data. An object of this class contains financial information for more months. The data is organised in two lists, one which stores all the incomes, and the same for expenses. I have chosen to work with lists because they are mutable and because it is easy to perform a large variety of operations on them. Then a bubble sort algorithm is implemented to help sort expenses in descending order - this is seen as hepful because then the student can see which are their biggest expenses. The logic of the bubble algorithm is simple: it goes through the list multiple times, compares the amounts of 2 consecutive expenses and if the one on the right is bigger than the one on the left-they swap places. after multiple iterations, I print out the sorted list. The visualisations needed extra data management before - i used pandas to be able to group expenses so I can make a pie chart, and an additional method to get the expenes an incomes in a form that a line chart with 2 lines can be created. There is also a simple option to export data to excel - where I created another dataframe with all data, and used a list of dictionaries for it, to make sure I don't make mistakes in the order. There is also a linear search algorithm, with a little twitch becuse instead of stopping when a match is found - I try to find all matches and store them in a list - again a list because they are simple to use."
   ]
  },
  {
   "cell_type": "code",
   "execution_count": 10,
   "id": "a2c511f7-8b4f-4693-be6c-bb565d9280cb",
   "metadata": {},
   "outputs": [],
   "source": [
    "class ExpenseManagement:\n",
    "    def __init__(self):\n",
    "        self.all_incomes = [] \n",
    "        self.all_expenses=[] \n",
    "    \n",
    "    #I use this to create instances of the class income - I call this in main() to pass it on the studen's inputs \n",
    "    def register_income(self, current_month, su_amount, hours_worked, hourly_wage, other_income, tax_paid):\n",
    "            income = Income(current_month, su_amount, hours_worked, hourly_wage, other_income, tax_paid )\n",
    "            self.all_incomes.append(income)\n",
    "\n",
    "    #same as above but for expenses \n",
    "    def register_expense(self, current_month, description, amount, category):\n",
    "            individual_expense = Expense(current_month, description, amount, category)\n",
    "            self.all_expenses.append(individual_expense)\n",
    "    \n",
    "\n",
    "    def bubble_sort_the_expenses_by_amount(self, current_month):\n",
    "        monthly_expenses=[expense for expense in self.all_expenses if expense.current_month.lower() == current_month.lower()] \n",
    "\n",
    "        n=len(monthly_expenses)\n",
    "        for i in range(n):\n",
    "            for j in range(0,n-i-1):\n",
    "                if monthly_expenses[j].amount < monthly_expenses[j+1].amount: \n",
    "                    monthly_expenses[j], monthly_expenses[j+1]=monthly_expenses[j+1], monthly_expenses[j]\n",
    "\n",
    "        print('\\nHere are the expenses for the month {} sorted by their amount in descending order:'.format(current_month))\n",
    "        \n",
    "        for individual_expense in monthly_expenses:\n",
    "            print('Expense for the month {}, Description: {}, Amount: {} DKK, Category it belongs to: {}'.format(individual_expense.current_month, individual_expense.description, individual_expense.amount, individual_expense.category))\n",
    "\n",
    "    #this will help the student type in a caegory and get all monthly expenses from that category \n",
    "    def linear_search_expenses_by_category(self, current_month, category):\n",
    "        expenses_that_match=[]\n",
    "        for i in range(len(self.all_expenses)):\n",
    "            individual_expense=self.all_expenses[i]\n",
    "            if individual_expense.current_month.lower()==current_month.lower() and individual_expense.category.lower()==category.lower():\n",
    "                expenses_that_match.append(individual_expense)\n",
    "        #print(expenses_that_match)\n",
    "\n",
    "        if expenses_that_match:\n",
    "            print('\\n The expenses in the category \"{}\" for the month {} are: '.format(category, current_month))\n",
    "            for individual_expense in expenses_that_match:\n",
    "                print('The category of the expense: {}, Description: {}, Amount: {} DKK'.format(individual_expense.category, individual_expense.description, individual_expense.amount))\n",
    "        else:\n",
    "            print('\\n There were no expenses belonging to the category \"{}\" in the month of {}'.format(category, current_month))\n",
    "\n",
    "    \n",
    "    def pie_chart(self, current_month):\n",
    "        monthly_expenses =[individual_expense for individual_expense in self.all_expenses if individual_expense.current_month.lower()==current_month.lower()]\n",
    "\n",
    "        if not monthly_expenses:\n",
    "            print('Unfortunately, no expense was recorded in the month {}. The pie chart cannot be created'.format(current_month))\n",
    "            return\n",
    "\n",
    "        #I create a pandas dataframe to easily group expenses - without this the pie chart is hard to generate   \n",
    "        expense_data=[[individual_expense.category, individual_expense.amount] for individual_expense in monthly_expenses]\n",
    "        df=pd.DataFrame(expense_data, columns=['Category', 'Amount'])\n",
    "        category_totals =df.groupby('Category')['Amount'].sum()\n",
    "\n",
    "        #print(df.head())\n",
    "        \n",
    "        #category_totals.head()\n",
    "\n",
    "        \n",
    "        plt.pie(category_totals, labels = category_totals.index, autopct = '%1.1f%%', pctdistance=0.75)\n",
    "        plt.title(\"The Expense Overview for the month {}: \".format(current_month))\n",
    "        plt.show()\n",
    "\n",
    "    #this is like a helper method for the line chart - the end goal is to get 2 lists: one with all incomes and one with the sum of all expenses\n",
    "    #the hard part here is that each item in each list has to follow the order of the months, so I thought the easiest is to create a month list and use that\n",
    "    def getting_monthly_totals(self):\n",
    "        income_by_month = [0]*12\n",
    "        expenses_by_month= [0]*12\n",
    "\n",
    "        all_months_in_a_year=['January', 'February','March','April','May','June','July', 'August','September','October','November','December' ]\n",
    "\n",
    "        for individual_income in self.all_incomes:\n",
    "                month_index=all_months_in_a_year.index(individual_income.current_month.strip().capitalize())\n",
    "                income_by_month[month_index]= individual_income.spendable_income_calculation()[1] \n",
    "           \n",
    "        for individual_expense in self.all_expenses:\n",
    "                month_index = all_months_in_a_year.index(individual_expense.current_month.strip().capitalize())\n",
    "                expenses_by_month[month_index] +=  individual_expense.amount\n",
    "        #print(income_by_month)  \n",
    "        return income_by_month, expenses_by_month\n",
    "    \n",
    "    def line_chart(self):\n",
    "        income_by_month, expenses_by_month = self.getting_monthly_totals()\n",
    "     \n",
    "        plt.plot(range(1,13), income_by_month, label = \"Spendable Income\", marker = 'o')\n",
    "        plt.plot(range(1,13),expenses_by_month, label = \"Total Expenses\", marker='o')\n",
    "        \n",
    "        plt.title('Total Income and Expenses Over time - Until the Current Month')\n",
    "        plt.xlabel('Month')\n",
    "        plt.ylabel('Amount in DKK')\n",
    "        plt.legend()\n",
    "        plt.grid()\n",
    "        plt.xticks(range(1,13), ['Jan', 'Feb', 'Mar','Apr','May','Jun', 'Jul', 'Aug', 'Sep','Oct','Nov','Dec'])\n",
    "        plt.show()   \n",
    "\n",
    "    def excel_export(self):\n",
    "        all_data = []\n",
    "        for income in self.all_incomes:\n",
    "            monthly_income, spendable_income = income.spendable_income_calculation()\n",
    "            all_data.append({'Type':'Income', 'Month':income.current_month, 'SU':income.su_amount, 'Worked Hours': income.hours_worked, 'Hourly_wage':income.hourly_wage, 'Add. income':income.other_income, 'Taxes':income.tax_paid, 'Monthly Income':monthly_income, 'Spendable Income': spendable_income, 'Description': None, 'Expense_amount':None, 'Category':None})\n",
    "\n",
    "        for expense in self.all_expenses:\n",
    "            all_data.append({'Type': 'Expense', 'Month': expense.current_month, 'SU': None, 'Worked Hours':None,'Hourly_wage':None,'Add. income':None, 'Taxes':None, 'Monthly Income':None, 'Spendable Income': None, 'Description': expense.description, 'Expense_amount': expense.amount, 'Category': expense.category})\n",
    "\n",
    "        df2=pd.DataFrame(all_data, columns=['Type', 'Month', 'SU', 'Worked Hours', 'Hourly_wage','Add. income','Taxes','Monthly Income','Spendable Income', 'Description','Expense_amount','Category'])                 \n",
    "        #print(df2.head())\n",
    "\n",
    "\n",
    "        while True:\n",
    "            path_for_excel_file = input('Enter the file path where you would like the excel file to be saved. Please follow this example: C:\\\\\\\\Users\\\\\\\\Name\\\\\\\\Desktop\\\\\\\\Income_and_expenses.xlsx, including the exact number of backlashes. Note: Name is the username you have for your computer: ').strip()\n",
    "            try:\n",
    "                df2.to_excel(path_for_excel_file, index=False)\n",
    "                print('Your file has been created and the data should be available at {}'.format(path_for_excel_file))\n",
    "                break\n",
    "            except ValueError as error:\n",
    "                print('There was an error in saving your excel file: {}'.format(error))"
   ]
  },
  {
   "cell_type": "markdown",
   "id": "460a94a7-0b71-4936-b783-c96367f4cc82",
   "metadata": {},
   "source": [
    "Lastly, a main function was needed for creating an interactive medium for the user - it would be to difficult to have to create instances of classes manually, especially for the expense part. The main function creates an instance of the third class, so all the methods in it can be used. The student first enters the month - if they do it wrong, they get an error and until they introduce a valid name like january or January. after that, they input income details, whcih again have to be valid, then expenses - this function calls the methods in the class above to generate objects of the classes. then it calls all of the other methods discuss above, on these objects - sorting, searching, visualisation creation. the main() makes it very easy to just click run and then every method is called automatically."
   ]
  },
  {
   "cell_type": "code",
   "execution_count": 11,
   "id": "fd730ad9-1303-48ad-99da-ad4570efb6e2",
   "metadata": {},
   "outputs": [],
   "source": [
    "#The Main Function of the Program \n",
    "def main():\n",
    "    exp_management = ExpenseManagement() \n",
    "    months=['January', 'February', 'March','April', 'May', 'June','July','August','September','October','November','December']\n",
    "    \n",
    "    while True:\n",
    "        current_month = input(\"Enter the month you want to work with. Example: Enter 'January' or type 'quit' to exit:\").capitalize()\n",
    "        if current_month.lower()== 'quit':\n",
    "            print('The execution of the program has finished. Thank you for trying it! :)')\n",
    "            break\n",
    "        if current_month not in months:\n",
    "            print('Ups, you entered a wrong month name, please try again and ensure your month is written like February')\n",
    "            continue\n",
    "        print('Entering the data for the month: {} '.format(current_month))\n",
    "\n",
    "        while True:\n",
    "            try:\n",
    "                su_amount = float(input(\"Enter how much you are earning in SU. Write 0 if you don't get SU: \"))\n",
    "                hours_worked = float(input('Enter how many hours you worked this month. Write 0 if none:'))\n",
    "                hourly_wage=float(input('Please enter your hourly wage, before taxes. Enter 0 if none: '))\n",
    "                other_income=float(input('Enter any income you got from other sources, fx. parents. Write 0 if none: '))\n",
    "                tax_paid=float(input ('Enter the amount you paid in taxes this month. Write 0 if none: '))\n",
    "                exp_management.register_income(current_month, su_amount, hours_worked, hourly_wage,other_income,tax_paid)\n",
    "                break\n",
    "            except ValueError as error:\n",
    "                print(\"There was an error: {}\".format(error))     \n",
    "\n",
    "        while True:\n",
    "            add_expense = input('Do you want to add an expense for this month? Type either y or n:').lower()\n",
    "            if add_expense =='n':\n",
    "                break\n",
    "            elif add_expense=='y':\n",
    "                while True:\n",
    "                    \n",
    "                    try:\n",
    "                        description = input('Enter the expense description. fx: movies with friends')\n",
    "                        amount=float(input('Enter the expense amount:'))\n",
    "                        category=input('Enter the category the expense belongs to. Fx: rent, utilities: ')\n",
    "                        exp_management.register_expense(current_month,description,amount, category)\n",
    "                        break\n",
    "                    except ValueError as error:\n",
    "                        print('An error has unfortunately occurred: {}'.format(error))\n",
    "            else:\n",
    "                print('Please type either y for \"yes\" or n for \"no\" here')\n",
    "\n",
    "       \n",
    "        exp_management.bubble_sort_the_expenses_by_amount(current_month) \n",
    "\n",
    "      \n",
    "        category=input('You can search expenses by category. Please enter the category for which you want to search the expenses')\n",
    "        exp_management.linear_search_expenses_by_category(current_month,category)\n",
    "\n",
    "        \n",
    "        #Visualisations\n",
    "        exp_management.pie_chart(current_month)\n",
    "        exp_management.line_chart()\n",
    "\n",
    "        #Excel saving\n",
    "        want_export=input('Do you want to export your data as an Excel file? Type y for yes or n for no:').strip().lower()\n",
    "        if want_export=='y':\n",
    "            exp_management.excel_export()"
   ]
  },
  {
   "cell_type": "code",
   "execution_count": 12,
   "id": "19b6434a-b9cf-4d59-b29f-0a3e81af48ef",
   "metadata": {},
   "outputs": [
    {
     "name": "stdin",
     "output_type": "stream",
     "text": [
      "Enter the month you want to work with. Example: Enter 'January' or type 'quit' to exit: january\n"
     ]
    },
    {
     "name": "stdout",
     "output_type": "stream",
     "text": [
      "Entering the data for the month: January \n"
     ]
    },
    {
     "name": "stdin",
     "output_type": "stream",
     "text": [
      "Enter how much you are earning in SU. Write 0 if you don't get SU:  6500\\\n"
     ]
    },
    {
     "name": "stdout",
     "output_type": "stream",
     "text": [
      "There was an error: could not convert string to float: '6500\\\\'\n"
     ]
    },
    {
     "name": "stdin",
     "output_type": "stream",
     "text": [
      "Enter how much you are earning in SU. Write 0 if you don't get SU:  6500\n",
      "Enter how many hours you worked this month. Write 0 if none: 30\n",
      "Please enter your hourly wage, before taxes. Enter 0 if none:  100\n",
      "Enter any income you got from other sources, fx. parents. Write 0 if none:  200\n",
      "Enter the amount you paid in taxes this month. Write 0 if none:  0\n"
     ]
    },
    {
     "name": "stdout",
     "output_type": "stream",
     "text": [
      "Warning: Your hourly wage seems lower than recommended. You could consider discussing this with a union :) \n"
     ]
    },
    {
     "name": "stdin",
     "output_type": "stream",
     "text": [
      "Do you want to add an expense for this month? Type either y or n: y\n",
      "Enter the expense description. fx: movies with friends food\n",
      "Enter the expense amount: 200\n",
      "Enter the category the expense belongs to. Fx: rent, utilities:  food\n",
      "Do you want to add an expense for this month? Type either y or n: n\n"
     ]
    },
    {
     "name": "stdout",
     "output_type": "stream",
     "text": [
      "\n",
      "Here are the expenses for the month January sorted by their amount in descending order:\n",
      "Expense for the month January, Description: food, Amount: 200.0 DKK, Category it belongs to: food\n"
     ]
    },
    {
     "name": "stdin",
     "output_type": "stream",
     "text": [
      "You can search expenses by category. Please enter the category for which you want to search the expenses d\n"
     ]
    },
    {
     "name": "stdout",
     "output_type": "stream",
     "text": [
      "\n",
      " There were no expenses belonging to the category \"d\" in the month of January\n"
     ]
    },
    {
     "data": {
      "image/png": "[encoded data removed]",
      "text/plain": [
       "<Figure size 640x480 with 1 Axes>"
      ]
     },
     "metadata": {},
     "output_type": "display_data"
    },
    {
     "data": {
      "image/png": "[encoded data removed]",
      "text/plain": [
       "<Figure size 640x480 with 1 Axes>"
      ]
     },
     "metadata": {},
     "output_type": "display_data"
    },
    {
     "name": "stdin",
     "output_type": "stream",
     "text": [
      "Do you want to export your data as an Excel file? Type y for yes or n for no: y\n",
      "Enter the file path where you would like the excel file to be saved. Please follow this example: C:\\\\Users\\\\Name\\\\Desktop\\\\Income_and_expenses.xlsx, including the exact number of backlashes. Note: Name is the username you have for your computer:  C:\\\\Users\\\\Gabriela\\\\Desktop\\\\Income_and_expenses.xlsx\n"
     ]
    },
    {
     "name": "stdout",
     "output_type": "stream",
     "text": [
      "Your file has been created and the data should be available at C:\\\\Users\\\\Gabriela\\\\Desktop\\\\Income_and_expenses.xlsx\n"
     ]
    },
    {
     "name": "stdin",
     "output_type": "stream",
     "text": [
      "Enter the month you want to work with. Example: Enter 'January' or type 'quit' to exit: qui\n"
     ]
    },
    {
     "name": "stdout",
     "output_type": "stream",
     "text": [
      "Ups, you entered a wrong month name, please try again and ensure your month is written like February\n"
     ]
    },
    {
     "name": "stdin",
     "output_type": "stream",
     "text": [
      "Enter the month you want to work with. Example: Enter 'January' or type 'quit' to exit: quit\n"
     ]
    },
    {
     "name": "stdout",
     "output_type": "stream",
     "text": [
      "The execution of the program has finished. Thank you for trying it! :)\n"
     ]
    }
   ],
   "source": [
    "#Calling the main function\n",
    "main()"
   ]
  },
  {
   "cell_type": "code",
   "execution_count": null,
   "id": "27aba18d-58f8-4375-823a-14266704a4f4",
   "metadata": {},
   "outputs": [],
   "source": []
  },
  {
   "cell_type": "code",
   "execution_count": null,
   "id": "5215095e-bd41-4886-9240-6704f2ceb047",
   "metadata": {},
   "outputs": [],
   "source": []
  },
  {
   "cell_type": "code",
   "execution_count": null,
   "id": "bf817a17-6a3e-4ce1-8397-1762cf4d28f3",
   "metadata": {},
   "outputs": [],
   "source": []
  },
  {
   "cell_type": "code",
   "execution_count": null,
   "id": "9e7249bf-8c53-45e7-9bb7-8b6ee64c2ecf",
   "metadata": {},
   "outputs": [],
   "source": []
  },
  {
   "cell_type": "code",
   "execution_count": null,
   "id": "c57c2dd3-0a15-4534-86ce-4c820b920019",
   "metadata": {},
   "outputs": [],
   "source": []
  }
 ],
 "metadata": {
  "kernelspec": {
   "display_name": "Python 3 (ipykernel)",
   "language": "python",
   "name": "python3"
  },
  "language_info": {
   "codemirror_mode": {
    "name": "ipython",
    "version": 3
   },
   "file_extension": ".py",
   "mimetype": "text/x-python",
   "name": "python",
   "nbconvert_exporter": "python",
   "pygments_lexer": "ipython3",
   "version": "3.12.4"
  }
 },
 "nbformat": 4,
 "nbformat_minor": 5
}
